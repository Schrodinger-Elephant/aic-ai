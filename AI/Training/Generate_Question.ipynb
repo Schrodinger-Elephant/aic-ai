{
  "nbformat": 4,
  "nbformat_minor": 0,
  "metadata": {
    "colab": {
      "name": "Generate Question",
      "provenance": [],
      "collapsed_sections": []
    },
    "language_info": {
      "name": "python"
    },
    "kernelspec": {
      "name": "python3",
      "display_name": "Python 3"
    },
    "accelerator": "GPU"
  },
  "cells": [
    {
      "cell_type": "markdown",
      "metadata": {
        "id": "X4cRE8IbIrIV"
      },
      "source": [
        "Install pustaka yang diperlukan\n"
      ]
    },
    {
      "cell_type": "code",
      "metadata": {
        "id": "MOsHUjgdIrIW"
      },
      "source": [
        "! pip install datasets transformers rouge-score nltk"
      ],
      "execution_count": null,
      "outputs": []
    },
    {
      "cell_type": "markdown",
      "metadata": {
        "id": "oBMbukKADFLQ"
      },
      "source": [
        "Login ke akun huggingface"
      ]
    },
    {
      "cell_type": "code",
      "metadata": {
        "id": "8RYs9Q_LE5R4"
      },
      "source": [
        "!huggingface-cli login"
      ],
      "execution_count": null,
      "outputs": []
    },
    {
      "cell_type": "markdown",
      "metadata": {
        "id": "npc77fdJE5R_"
      },
      "source": [
        "install dan setup git-lfs"
      ]
    },
    {
      "cell_type": "code",
      "metadata": {
        "id": "ZsCnfpuiE5SG"
      },
      "source": [
        "!apt install git-lfs\n",
        "!git config --global user.email \"arkanfadhil080@gmail.com.com\"\n",
        "!git config --global user.name \"Muhammad Fadhil Arkan\""
      ],
      "execution_count": null,
      "outputs": []
    },
    {
      "cell_type": "markdown",
      "metadata": {
        "id": "dLC6N5DDE5SK"
      },
      "source": [
        "download tokenzer punkt dari library nltk"
      ]
    },
    {
      "cell_type": "code",
      "metadata": {
        "id": "bIJdDGf3_y2c",
        "colab": {
          "base_uri": "https://localhost:8080/"
        },
        "outputId": "cef057be-0555-4494-9d36-0245258e9992"
      },
      "source": [
        "import nltk\n",
        "nltk.download('punkt')"
      ],
      "execution_count": 4,
      "outputs": [
        {
          "output_type": "stream",
          "text": [
            "[nltk_data] Downloading package punkt to /root/nltk_data...\n",
            "[nltk_data]   Unzipping tokenizers/punkt.zip.\n"
          ],
          "name": "stdout"
        },
        {
          "output_type": "execute_result",
          "data": {
            "text/plain": [
              "True"
            ]
          },
          "metadata": {
            "tags": []
          },
          "execution_count": 4
        }
      ]
    },
    {
      "cell_type": "markdown",
      "metadata": {
        "id": "rEJBSTyZIrIb"
      },
      "source": [
        "Fine-tuning pada model untuk melakukan tugas generasi pertanyaan"
      ]
    },
    {
      "cell_type": "code",
      "metadata": {
        "id": "lIbnIzCBE5Sg"
      },
      "source": [
        "model_checkpoint = \"t5-small\""
      ],
      "execution_count": 5,
      "outputs": []
    },
    {
      "cell_type": "markdown",
      "metadata": {
        "id": "whPRbBNbIrIl"
      },
      "source": [
        "## Loading the dataset"
      ]
    },
    {
      "cell_type": "markdown",
      "metadata": {
        "id": "W7QYTpxXIrIl"
      },
      "source": [
        "download dataset dan metric yang akan digunakan"
      ]
    },
    {
      "cell_type": "code",
      "metadata": {
        "id": "IreSlFmlIrIm"
      },
      "source": [
        "from datasets import load_dataset, load_metric\n",
        "\n",
        "#raw_datasets = load_dataset(\"xsum\")\n",
        "raw_datasets = load_dataset(\"squad\")\n",
        "\n",
        "metric = load_metric(\"rouge\")"
      ],
      "execution_count": null,
      "outputs": []
    },
    {
      "cell_type": "markdown",
      "metadata": {
        "id": "RzfPtOMoIrIu"
      },
      "source": [
        "melihat dataset"
      ]
    },
    {
      "cell_type": "code",
      "metadata": {
        "id": "GWiVUF0jIrIv",
        "colab": {
          "base_uri": "https://localhost:8080/"
        },
        "outputId": "4f467f62-fa4a-40a0-bf5b-cc75032be903"
      },
      "source": [
        "raw_datasets"
      ],
      "execution_count": 7,
      "outputs": [
        {
          "output_type": "execute_result",
          "data": {
            "text/plain": [
              "DatasetDict({\n",
              "    train: Dataset({\n",
              "        features: ['id', 'title', 'context', 'question', 'answers'],\n",
              "        num_rows: 87599\n",
              "    })\n",
              "    validation: Dataset({\n",
              "        features: ['id', 'title', 'context', 'question', 'answers'],\n",
              "        num_rows: 10570\n",
              "    })\n",
              "})"
            ]
          },
          "metadata": {
            "tags": []
          },
          "execution_count": 7
        }
      ]
    },
    {
      "cell_type": "markdown",
      "metadata": {
        "id": "u3EtYfeHIrIz"
      },
      "source": [
        "melihat isi dataset yang sebenarnya"
      ]
    },
    {
      "cell_type": "code",
      "metadata": {
        "id": "X6HrpprwIrIz",
        "colab": {
          "base_uri": "https://localhost:8080/"
        },
        "outputId": "5f6f54ac-3196-4556-cd94-82993a0d2f5e"
      },
      "source": [
        "raw_datasets[\"train\"][0]"
      ],
      "execution_count": 8,
      "outputs": [
        {
          "output_type": "execute_result",
          "data": {
            "text/plain": [
              "{'answers': {'answer_start': [515], 'text': ['Saint Bernadette Soubirous']},\n",
              " 'context': 'Architecturally, the school has a Catholic character. Atop the Main Building\\'s gold dome is a golden statue of the Virgin Mary. Immediately in front of the Main Building and facing it, is a copper statue of Christ with arms upraised with the legend \"Venite Ad Me Omnes\". Next to the Main Building is the Basilica of the Sacred Heart. Immediately behind the basilica is the Grotto, a Marian place of prayer and reflection. It is a replica of the grotto at Lourdes, France where the Virgin Mary reputedly appeared to Saint Bernadette Soubirous in 1858. At the end of the main drive (and in a direct line that connects through 3 statues and the Gold Dome), is a simple, modern stone statue of Mary.',\n",
              " 'id': '5733be284776f41900661182',\n",
              " 'question': 'To whom did the Virgin Mary allegedly appear in 1858 in Lourdes France?',\n",
              " 'title': 'University_of_Notre_Dame'}"
            ]
          },
          "metadata": {
            "tags": []
          },
          "execution_count": 8
        }
      ]
    },
    {
      "cell_type": "markdown",
      "metadata": {
        "id": "WHUmphG3IrI3"
      },
      "source": [
        "visualisasi dataset"
      ]
    },
    {
      "cell_type": "code",
      "metadata": {
        "id": "i3j8APAoIrI3"
      },
      "source": [
        "import datasets\n",
        "import random\n",
        "import pandas as pd\n",
        "from IPython.display import display, HTML\n",
        "\n",
        "def show_random_elements(dataset, num_examples=20):\n",
        "    assert num_examples <= len(dataset), \"Can't pick more elements than there are in the dataset.\"\n",
        "    picks = []\n",
        "    for _ in range(num_examples):\n",
        "        pick = random.randint(0, len(dataset)-1)\n",
        "        while pick in picks:\n",
        "            pick = random.randint(0, len(dataset)-1)\n",
        "        picks.append(pick)\n",
        "    \n",
        "    df = pd.DataFrame(dataset[picks])\n",
        "    for column, typ in dataset.features.items():\n",
        "        if isinstance(typ, datasets.ClassLabel):\n",
        "            df[column] = df[column].transform(lambda i: typ.names[i])\n",
        "    display(HTML(df.to_html()))"
      ],
      "execution_count": 9,
      "outputs": []
    },
    {
      "cell_type": "code",
      "metadata": {
        "id": "SZy5tRB_IrI7",
        "colab": {
          "base_uri": "https://localhost:8080/",
          "height": 1000
        },
        "outputId": "8e048861-c508-4515-9522-43274c2b8a86"
      },
      "source": [
        "show_random_elements(raw_datasets[\"train\"])"
      ],
      "execution_count": 10,
      "outputs": [
        {
          "output_type": "display_data",
          "data": {
            "text/html": [
              "<table border=\"1\" class=\"dataframe\">\n",
              "  <thead>\n",
              "    <tr style=\"text-align: right;\">\n",
              "      <th></th>\n",
              "      <th>id</th>\n",
              "      <th>title</th>\n",
              "      <th>context</th>\n",
              "      <th>question</th>\n",
              "      <th>answers</th>\n",
              "    </tr>\n",
              "  </thead>\n",
              "  <tbody>\n",
              "    <tr>\n",
              "      <th>0</th>\n",
              "      <td>572780475951b619008f8b7c</td>\n",
              "      <td>Alsace</td>\n",
              "      <td>Holy Roman Empire central power had begun to decline following years of imperial adventures in Italian lands, often ceding hegemony in Western Europe to France, which had long since centralized power. France began an aggressive policy of expanding eastward, first to the rivers Rhône and Meuse, and when those borders were reached, aiming for the Rhine. In 1299, the French proposed a marriage alliance between Philip IV of France's sister Blanche and Albert I of Germany's son Rudolf, with Alsace to be the dowry; however, the deal never came off. In 1307, the town of Belfort was first chartered by the Counts of Montbéliard. During the next century, France was to be militarily shattered by the Hundred Years' War, which prevented for a time any further tendencies in this direction. After the conclusion of the war, France was again free to pursue its desire to reach the Rhine and in 1444 a French army appeared in Lorraine and Alsace. It took up winter quarters, demanded the submission of Metz and Strasbourg and launched an attack on Basel.</td>\n",
              "      <td>The French proposed a marriage between which two people?</td>\n",
              "      <td>{'text': ['Blanche and Albert'], 'answer_start': [440]}</td>\n",
              "    </tr>\n",
              "    <tr>\n",
              "      <th>1</th>\n",
              "      <td>570c2ab3ec8fbc190045bcfc</td>\n",
              "      <td>Federal_Bureau_of_Investigation</td>\n",
              "      <td>In 2000, the FBI began the Trilogy project to upgrade its outdated information technology (IT) infrastructure. This project, originally scheduled to take three years and cost around $380 million, ended up going far over budget and behind schedule. Efforts to deploy modern computers and networking equipment were generally successful, but attempts to develop new investigation software, outsourced to Science Applications International Corporation (SAIC), were not. Virtual Case File, or VCF, as the software was known, was plagued by poorly defined goals, and repeated changes in management. In January 2005, more than two years after the software was originally planned for completion, the FBI officially abandoned the project. At least $100 million (and much more by some estimates) was spent on the project, which never became operational. The FBI has been forced to continue using its decade-old Automated Case Support system, which IT experts consider woefully inadequate. In March 2005, the FBI announced it was beginning a new, more ambitious software project, code-named Sentinel, which they expected to complete by 2009.</td>\n",
              "      <td>When did the FBI begin the Trilogy project?</td>\n",
              "      <td>{'text': ['2000'], 'answer_start': [3]}</td>\n",
              "    </tr>\n",
              "    <tr>\n",
              "      <th>2</th>\n",
              "      <td>56d8df98dc89441400fdb36e</td>\n",
              "      <td>2008_Summer_Olympics_torch_relay</td>\n",
              "      <td>Of the 80 torch-bearers in London, Sir Steve Redgrave, who started the relay, mentioned to the media that he had received e-mailed pleas to boycott the event and could \"see why they would like to make an issue\" of it. Francesca Martinez and Richard Vaughan refused to carry the torch, while Konnie Huq decided to carry it and also speak out against China. The pro-Tibetan Member of Parliament Norman Baker asked all bearers to reconsider. Amid pressure from both directions, Prime Minister Gordon Brown welcomed the torch outside 10 Downing Street without holding or touching it. The London relay saw the torch surrounded by what the BBC described as \"a mobile protective ring.\" Protests began as soon as Redgrave started the event, leading to at least thirty-five arrests. In Ladbroke Grove a demonstrator attempted to snatch the torch from Konnie Huq in a momentary struggle, and in a separate incident, a fire extinguisher was set off near the torch. The Chinese ambassador carried the torch through Chinatown after an unpublicized change to the route amid security concerns. The torch made an unscheduled move onto a bus along Fleet Street amid security concerns and efforts to evade the protesters. In an effort to counter the pro-Tibet protesters and show their support for the 2008 Beijing Olympics, more than 2,000 Chinese also gathered on the torch route and demonstrated with signs, banners and Chinese flags. A large number of supporters were concentrated in Trafalgar Square, displaying the Olympic slogan \"One World, One Dream\".</td>\n",
              "      <td>Along with Francesca Martinez, who decided to not carry the torch?</td>\n",
              "      <td>{'text': ['Richard Vaughan'], 'answer_start': [241]}</td>\n",
              "    </tr>\n",
              "    <tr>\n",
              "      <th>3</th>\n",
              "      <td>5726b6f85951b619008f7ba7</td>\n",
              "      <td>Yale_University</td>\n",
              "      <td>In 1966, Yale began discussions with its sister school Vassar College about merging to foster coeducation at the undergraduate level. Vassar, then all-female and part of the Seven Sisters—elite higher education schools that historically served as sister institutions to the Ivy League when the Ivy League still only admitted men—tentatively accepted, but then declined the invitation. Both schools introduced coeducation independently in 1969. Amy Solomon was the first woman to register as a Yale undergraduate; she was also the first woman at Yale to join an undergraduate society, St. Anthony Hall. The undergraduate class of 1973 was the first class to have women starting from freshman year; at the time, all undergraduate women were housed in Vanderbilt Hall at the south end of Old Campus.[citation needed]</td>\n",
              "      <td>Where did undergraduate women live during the first few years of women being allowed to attend Yale?</td>\n",
              "      <td>{'text': ['Vanderbilt Hall'], 'answer_start': [749]}</td>\n",
              "    </tr>\n",
              "    <tr>\n",
              "      <th>4</th>\n",
              "      <td>5727db044b864d1900163ea7</td>\n",
              "      <td>Baptists</td>\n",
              "      <td>Another milestone in the early development of Baptist doctrine was in 1638 with John Spilsbury, a Calvinistic minister who helped to promote the strict practice of believer's baptism by immersion. According to Tom Nettles, professor of historical theology at Southern Baptist Theological Seminary, \"Spilsbury's cogent arguments for a gathered, disciplined congregation of believers baptized by immersion as constituting the New Testament church gave expression to and built on insights that had emerged within separatism, advanced in the life of John Smyth and the suffering congregation of Thomas Helwys, and matured in Particular Baptists.\"</td>\n",
              "      <td>What was Tom Nettles a professor of?</td>\n",
              "      <td>{'text': ['historical theology'], 'answer_start': [236]}</td>\n",
              "    </tr>\n",
              "    <tr>\n",
              "      <th>5</th>\n",
              "      <td>56f8af2b9e9bad19000a0309</td>\n",
              "      <td>Gene</td>\n",
              "      <td>Firstly, flanking the open reading frame, all genes contain a regulatory sequence that is required for their expression. In order to be expressed, genes require a promoter sequence. The promoter is recognized and bound by transcription factors and RNA polymerase to initiate transcription.:7.1 A gene can have more than one promoter, resulting in messenger RNAs (mRNA) that differ in how far they extend in the 5' end. Promoter regions have a consensus sequence, however highly transcribed genes have \"strong\" promoter sequences that bind the transcription machinery well, whereas others have \"weak\" promoters that bind poorly and initiate transcription less frequently.:7.2 Eukaryotic promoter regions are much more complex and difficult to identify than prokaryotic promoters.:7.3</td>\n",
              "      <td>What do all genes contain that is required for their expression?</td>\n",
              "      <td>{'text': ['a regulatory sequence'], 'answer_start': [60]}</td>\n",
              "    </tr>\n",
              "    <tr>\n",
              "      <th>6</th>\n",
              "      <td>570b221b6b8089140040f76a</td>\n",
              "      <td>Videoconferencing</td>\n",
              "      <td>In May 2005, the first high definition video conferencing systems, produced by LifeSize Communications, were displayed at the Interop trade show in Las Vegas, Nevada, able to provide video at 30 frames per second with a 1280 by 720 display resolution. Polycom introduced its first high definition video conferencing system to the market in 2006. As of the 2010s, high definition resolution for videoconferencing became a popular feature, with most major suppliers in the videoconferencing market offering it.</td>\n",
              "      <td>Where was the first HD video conferencing system displayed?</td>\n",
              "      <td>{'text': ['Las Vegas, Nevada'], 'answer_start': [148]}</td>\n",
              "    </tr>\n",
              "    <tr>\n",
              "      <th>7</th>\n",
              "      <td>57267806708984140094c72d</td>\n",
              "      <td>Chicago_Cubs</td>\n",
              "      <td>The Ricketts family acquired a majority interest in the Cubs in 2009, ending the Tribune years. Apparently handcuffed by the Tribune's bankruptcy and the sale of the club to the Ricketts family, the Cubs' quest for a NL Central 3-peat started with notice that there would be less invested into contracts than in previous years. Chicago engaged St. Louis in a see-saw battle for first place into August 2009, but the Cardinals played to a torrid 20–6 pace that month, designating their rivals to battle in the Wild Card race, from which they were eliminated in the season's final week. The Cubs were plagued by injuries in 2009, and were only able to field their Opening Day starting lineup three times the entire season. Third baseman Aramis Ramírez injured his throwing shoulder in an early May game against the Milwaukee Brewers, sidelining him until early July and forcing journeyman players like Mike Fontenot and Aaron Miles into more prominent roles. Additionally, key players like Derrek Lee (who still managed to hit .306 with 35 HR and 111 RBI that season), Alfonso Soriano and Geovany Soto also nursed nagging injuries. The Cubs posted a winning record (83–78) for the third consecutive season, the first time the club had done so since 1972, and a new era of ownership under the Ricketts' family was approved by MLB owners in early October.</td>\n",
              "      <td>What plagued the Cubs in 2009?</td>\n",
              "      <td>{'text': ['injuries'], 'answer_start': [610]}</td>\n",
              "    </tr>\n",
              "    <tr>\n",
              "      <th>8</th>\n",
              "      <td>57282c383acd2414000df633</td>\n",
              "      <td>Gamal_Abdel_Nasser</td>\n",
              "      <td>During the presidential referendum in Egypt, Nasser was re-elected to a second term as UAR president and took his oath on 25 March 1965. He was the only candidate for the position, with virtually all of his political opponents forbidden by law from running for office, and his fellow party members reduced to mere followers. That same year, Nasser had the Muslim Brotherhood chief ideologue Sayyed Qutb imprisoned. Qutb was charged and found guilty by the court of plotting to assassinate Nasser, and was executed in 1966. Beginning in 1966, as Egypt's economy slowed and government debt became increasingly burdensome, Nasser began to ease state control over the private sector, encouraging state-owned bank loans to private business and introducing incentives to increase exports. During the 60's, the Egyptian economy went from sluggishness to the verge of collapse, the society became less free, and Nasser's appeal waned considerably.</td>\n",
              "      <td>What was Nasser's political opposition like in the 1965 election?</td>\n",
              "      <td>{'text': ['He was the only candidate'], 'answer_start': [137]}</td>\n",
              "    </tr>\n",
              "    <tr>\n",
              "      <th>9</th>\n",
              "      <td>571df47eb64a571400c71e24</td>\n",
              "      <td>Multiracial_American</td>\n",
              "      <td>Chinese men entered the United States as laborers, primarily on the West Coast and in western territories. Following the Reconstruction era, as blacks set up independent farms, white planters imported Chinese laborers to satisfy their need for labor. In 1882, the Chinese Exclusion Act was passed, and Chinese workers who chose to stay in the U.S. were unable to have their wives join them. In the South, some Chinese married into the black and mulatto communities, as generally discrimination meant they did not take white spouses. They rapidly left working as laborers, and set up groceries in small towns throughout the South. They worked to get their children educated and socially mobile.</td>\n",
              "      <td>Where did most Chinese men enter the US?</td>\n",
              "      <td>{'text': ['primarily on the West Coast and in western territories'], 'answer_start': [51]}</td>\n",
              "    </tr>\n",
              "    <tr>\n",
              "      <th>10</th>\n",
              "      <td>5728b7dbff5b5019007da55c</td>\n",
              "      <td>Switzerland</td>\n",
              "      <td>Traditional sports include Swiss wrestling or \"Schwingen\". It is an old tradition from the rural central cantons and considered the national sport by some. Hornussen is another indigenous Swiss sport, which is like a cross between baseball and golf. Steinstossen is the Swiss variant of stone put, a competition in throwing a heavy stone. Practiced only among the alpine population since prehistoric times, it is recorded to have taken place in Basel in the 13th century. It is also central to the Unspunnenfest, first held in 1805, with its symbol the 83.5 kg stone named Unspunnenstein.</td>\n",
              "      <td>Which Swiss population is the only one to have practiced Steinstossen since prehistoric times?</td>\n",
              "      <td>{'text': ['alpine'], 'answer_start': [364]}</td>\n",
              "    </tr>\n",
              "    <tr>\n",
              "      <th>11</th>\n",
              "      <td>5726b597f1498d1400e8e851</td>\n",
              "      <td>Literature</td>\n",
              "      <td>The value judgement definition of literature considers it to exclusively include writing that possesses high quality or distinction, forming part of the so-called belles-lettres ('fine writing') tradition. This is the definition used in the Encyclopædia Britannica Eleventh Edition (1910–11) when it classifies literature as \"the best expression of the best thought reduced to writing.\" However, this has the result that there is no objective definition of what constitutes \"literature\"; anything can be literature, and anything which is universally regarded as literature has the potential to be excluded, since value-judgements can change over time.</td>\n",
              "      <td>What effect does the evolving definition of literature have?</td>\n",
              "      <td>{'text': ['anything which is universally regarded as literature has the potential to be excluded'], 'answer_start': [520]}</td>\n",
              "    </tr>\n",
              "    <tr>\n",
              "      <th>12</th>\n",
              "      <td>57267a58f1498d1400e8e118</td>\n",
              "      <td>Queen_Victoria</td>\n",
              "      <td>In the 1874 general election, Disraeli was returned to power. He passed the Public Worship Regulation Act 1874, which removed Catholic rituals from the Anglican liturgy and which Victoria strongly supported. She preferred short, simple services, and personally considered herself more aligned with the presbyterian Church of Scotland than the episcopal Church of England. He also pushed the Royal Titles Act 1876 through Parliament, so that Victoria took the title \"Empress of India\" from 1 May 1876. The new title was proclaimed at the Delhi Durbar of 1 January 1877.</td>\n",
              "      <td>When was Disraeli returned to office?</td>\n",
              "      <td>{'text': ['1874'], 'answer_start': [7]}</td>\n",
              "    </tr>\n",
              "    <tr>\n",
              "      <th>13</th>\n",
              "      <td>5726a2b75951b619008f7877</td>\n",
              "      <td>Mexico_City</td>\n",
              "      <td>Street parking in urban neighborhoods is mostly controlled by the franeleros a.k.a. \"viene vienes\" (lit. \"come on, come on\"), who ask drivers for a fee to park, in theory to guard the car, but with the implicit threat that the franelero will damage the car if the fee is not paid. Double parking is common (with franeleros moving the cars as required), impeding on the available lanes for traffic to pass. In order to mitigate that and other problems and to raise revenue, 721 parking meters (as of October 2013), have been installed in the west-central neighborhoods Lomas de Chapultepec, Condesa, Roma, Polanco and Anzures, in operation from 8 AM to 8 PM on weekdays and charging a rate of 2 pesos per 15 minutes, with offenders' cars booted, costing about 500 pesos to remove. 30 percent of the monthly 16 million-peso (as of October 2013) income from the parking-meter system (named \"ecoParq\") is earmarked for neighborhood improvements. The granting of the license for all zones exclusively to a new company without experience in operating parking meters, Operadora de Estacionamientos Bicentenario, has generated controversy.</td>\n",
              "      <td>How much money a month do the parking meters bring in?</td>\n",
              "      <td>{'text': ['16 million-peso'], 'answer_start': [806]}</td>\n",
              "    </tr>\n",
              "    <tr>\n",
              "      <th>14</th>\n",
              "      <td>56d38fa059d6e41400146771</td>\n",
              "      <td>Frédéric_Chopin</td>\n",
              "      <td>Chopin took the new salon genre of the nocturne, invented by the Irish composer John Field, to a deeper level of sophistication. He was the first to write ballades and scherzi as individual concert pieces. He essentially established a new genre with his own set of free-standing preludes (Op. 28, published 1839). He exploited the poetic potential of the concept of the concert étude, already being developed in the 1820s and 1830s by Liszt, Clementi and Moscheles, in his two sets of studies (Op. 10 published in 1833, Op. 25 in 1837).</td>\n",
              "      <td>What new genre di John Field invent?</td>\n",
              "      <td>{'text': ['nocturne'], 'answer_start': [39]}</td>\n",
              "    </tr>\n",
              "    <tr>\n",
              "      <th>15</th>\n",
              "      <td>570b057a6b8089140040f6ee</td>\n",
              "      <td>Gregorian_calendar</td>\n",
              "      <td>Most Western European countries changed the start of the year to 1 January before they adopted the Gregorian calendar. For example, Scotland changed the start of the Scottish New Year to 1 January in 1600 (this means that 1599 was a short year). England, Ireland and the British colonies changed the start of the year to 1 January in 1752 (so 1751 was a short year with only 282 days) though in England the start of the tax year remained at 25 March (O.S.), 5 April (N.S.) till 1800, when it moved to 6 April. Later in 1752 in September the Gregorian calendar was introduced throughout Britain and the British colonies (see the section Adoption). These two reforms were implemented by the Calendar (New Style) Act 1750.</td>\n",
              "      <td>When did the other British states and colonies set the year start date to January 1?</td>\n",
              "      <td>{'text': ['1752'], 'answer_start': [334]}</td>\n",
              "    </tr>\n",
              "    <tr>\n",
              "      <th>16</th>\n",
              "      <td>56d19e43e7d4791d0090207b</td>\n",
              "      <td>To_Kill_a_Mockingbird</td>\n",
              "      <td>In a 1964 interview, Lee remarked that her aspiration was \"to be ... the Jane Austen of South Alabama.\" Both Austen and Lee challenged the social status quo and valued individual worth over social standing. When Scout embarrasses her poorer classmate, Walter Cunningham, at the Finch home one day, Calpurnia, their black cook, chastises and punishes her for doing so. Atticus respects Calpurnia's judgment, and later in the book even stands up to his sister, the formidable Aunt Alexandra, when she strongly suggests they fire Calpurnia. One writer notes that Scout, \"in Austenian fashion\", satirizes women with whom she does not wish to identify. Literary critic Jean Blackall lists the priorities shared by the two authors: \"affirmation of order in society, obedience, courtesy, and respect for the individual without regard for status\".</td>\n",
              "      <td>Which author did Lee aspire to be like?</td>\n",
              "      <td>{'text': ['Jane Austen'], 'answer_start': [73]}</td>\n",
              "    </tr>\n",
              "    <tr>\n",
              "      <th>17</th>\n",
              "      <td>56f95c639e9bad19000a0886</td>\n",
              "      <td>Ministry_of_Defence_(United_Kingdom)</td>\n",
              "      <td>From 1946 to 1964 five Departments of State did the work of the modern Ministry of Defence: the Admiralty, the War Office, the Air Ministry, the Ministry of Aviation, and an earlier form of the Ministry of Defence. These departments merged in 1964; the defence functions of the Ministry of Aviation Supply merged into the Ministry of Defence in 1971.</td>\n",
              "      <td>All former Departments of State (except the Ministry of Aviation Supply) merged in what year?</td>\n",
              "      <td>{'text': ['1964'], 'answer_start': [243]}</td>\n",
              "    </tr>\n",
              "    <tr>\n",
              "      <th>18</th>\n",
              "      <td>570da377df2f5219002ed08e</td>\n",
              "      <td>Antarctica</td>\n",
              "      <td>Small-scale \"expedition tourism\" has existed since 1957 and is currently subject to Antarctic Treaty and Environmental Protocol provisions, but in effect self-regulated by the International Association of Antarctica Tour Operators (IAATO). Not all vessels associated with Antarctic tourism are members of IAATO, but IAATO members account for 95% of the tourist activity. Travel is largely by small or medium ship, focusing on specific scenic locations with accessible concentrations of iconic wildlife. A total of 37,506 tourists visited during the 2006–07 Austral summer with nearly all of them coming from commercial ships. The number was predicted to increase to over 80,000 by 2010.</td>\n",
              "      <td>How many tourists went to Antarctica during the 2006-07 season?</td>\n",
              "      <td>{'text': ['37,506'], 'answer_start': [514]}</td>\n",
              "    </tr>\n",
              "    <tr>\n",
              "      <th>19</th>\n",
              "      <td>571020f7b654c5140001f821</td>\n",
              "      <td>Capital_punishment_in_the_United_States</td>\n",
              "      <td>All of the executions which have taken place since the 1936 hanging of Bethea in Owensboro have been conducted within a wall or enclosure. For example, Fred Adams was legally hanged in Kennett, Missouri, on April 2, 1937, within a 10-foot (3 m) wooden stockade. Roscoe \"Red\" Jackson was hanged within a stockade in Galena, Missouri, on May 26, 1937. Two Kentucky hangings were conducted after Galena in which numerous persons were present within a wooden stockade, that of John \"Peter\" Montjoy in Covington, Kentucky on December 17, 1937, and that of Harold Van Venison in Covington on June 3, 1938. An estimated 400 witnesses were present for the hanging of Lee Simpson in Ryegate, Montana, on December 30, 1939. The execution of Timothy McVeigh on June 11, 2001 was witnessed by some 300 people, some by closed-circuit television.</td>\n",
              "      <td>How many people witnessed Timothy McVeigh's execution?</td>\n",
              "      <td>{'text': ['300'], 'answer_start': [786]}</td>\n",
              "    </tr>\n",
              "  </tbody>\n",
              "</table>"
            ],
            "text/plain": [
              "<IPython.core.display.HTML object>"
            ]
          },
          "metadata": {
            "tags": []
          }
        }
      ]
    },
    {
      "cell_type": "markdown",
      "metadata": {
        "id": "lnjDIuQ3IrI-"
      },
      "source": [
        "informasi tentang metric yang digunakan"
      ]
    },
    {
      "cell_type": "code",
      "metadata": {
        "id": "5o4rUteaIrI_"
      },
      "source": [
        "metric"
      ],
      "execution_count": null,
      "outputs": []
    },
    {
      "cell_type": "markdown",
      "metadata": {
        "id": "jAWdqcUBIrJC"
      },
      "source": [
        "cara menggunakan metric"
      ]
    },
    {
      "cell_type": "code",
      "metadata": {
        "id": "6XN1Rq0aIrJC"
      },
      "source": [
        "fake_preds = [\"hello there\", \"general kenobi\"]\n",
        "fake_labels = [\"hello there\", \"general kenobi\"]\n",
        "aaa=metric.compute(predictions=fake_preds, references=fake_labels)\n",
        "aaa"
      ],
      "execution_count": null,
      "outputs": []
    },
    {
      "cell_type": "markdown",
      "metadata": {
        "id": "n9qywopnIrJH"
      },
      "source": [
        "## Preprocessing the data"
      ]
    },
    {
      "cell_type": "markdown",
      "metadata": {
        "id": "YVx71GdAIrJH"
      },
      "source": [
        "download tokenizer\n"
      ]
    },
    {
      "cell_type": "code",
      "metadata": {
        "id": "eXNLu_-nIrJI"
      },
      "source": [
        "from transformers import AutoTokenizer\n",
        "    \n",
        "tokenizer = AutoTokenizer.from_pretrained(model_checkpoint)"
      ],
      "execution_count": null,
      "outputs": []
    },
    {
      "cell_type": "markdown",
      "metadata": {
        "id": "ENidMZlyFBMy"
      },
      "source": [
        "tambahkan prefix pada input "
      ]
    },
    {
      "cell_type": "code",
      "metadata": {
        "id": "f69TKIGSE5Xq"
      },
      "source": [
        "if model_checkpoint in [\"t5-small\", \"t5-base\", \"t5-larg\", \"t5-3b\", \"t5-11b\"]:\n",
        "    prefix = \"summarize: \"\n",
        "else:\n",
        "    prefix = \"\""
      ],
      "execution_count": 14,
      "outputs": []
    },
    {
      "cell_type": "markdown",
      "metadata": {
        "id": "J4PRccsmE5Xr"
      },
      "source": [
        "preprocess dataset"
      ]
    },
    {
      "cell_type": "code",
      "metadata": {
        "id": "vc0BSBLIIrJQ"
      },
      "source": [
        "max_input_length = 1024\n",
        "max_target_length = 128\n",
        "\n",
        "def preprocess_function(examples):\n",
        "    inputs = [prefix + doc for doc in examples[\"context\"]]\n",
        "    model_inputs = tokenizer(inputs, max_length=max_input_length, truncation=True)\n",
        "\n",
        "    # Setup the tokenizer for targets\n",
        "    with tokenizer.as_target_tokenizer():\n",
        "        labels = tokenizer(examples[\"question\"], max_length=max_target_length, truncation=True)\n",
        "\n",
        "    model_inputs[\"labels\"] = labels[\"input_ids\"]\n",
        "    return model_inputs"
      ],
      "execution_count": 15,
      "outputs": []
    },
    {
      "cell_type": "markdown",
      "metadata": {
        "id": "zS-6iXTkIrJT"
      },
      "source": [
        "aplikasikan preprocessing pada seluruh dataset"
      ]
    },
    {
      "cell_type": "code",
      "metadata": {
        "id": "DDtsaJeVIrJT"
      },
      "source": [
        "tokenized_datasets = raw_datasets.map(preprocess_function, batched=True)"
      ],
      "execution_count": null,
      "outputs": []
    },
    {
      "cell_type": "markdown",
      "metadata": {
        "id": "545PP3o8IrJV"
      },
      "source": [
        "## Fine-tuning the model"
      ]
    },
    {
      "cell_type": "markdown",
      "metadata": {
        "id": "FBiW8UpKIrJW"
      },
      "source": [
        "Download model"
      ]
    },
    {
      "cell_type": "code",
      "metadata": {
        "id": "TlqNaB8jIrJW"
      },
      "source": [
        "from transformers import AutoModelForSeq2SeqLM, DataCollatorForSeq2Seq, Seq2SeqTrainingArguments, Seq2SeqTrainer\n",
        "\n",
        "model = AutoModelForSeq2SeqLM.from_pretrained(model_checkpoint)"
      ],
      "execution_count": null,
      "outputs": []
    },
    {
      "cell_type": "code",
      "metadata": {
        "id": "AgvMFHBBmSh_"
      },
      "source": [
        "model"
      ],
      "execution_count": null,
      "outputs": []
    },
    {
      "cell_type": "markdown",
      "metadata": {
        "id": "_N8urzhyIrJY"
      },
      "source": [
        "inisialisasi argumen untuk training"
      ]
    },
    {
      "cell_type": "code",
      "metadata": {
        "id": "Bliy8zgjIrJY"
      },
      "source": [
        "batch_size = 10\n",
        "model_name = model_checkpoint.split(\"/\")[-1]\n",
        "args = Seq2SeqTrainingArguments(\n",
        "    \"test-summarization-2\",\n",
        "    evaluation_strategy = \"epoch\",\n",
        "    learning_rate=2e-5,\n",
        "    per_device_train_batch_size=batch_size,\n",
        "    per_device_eval_batch_size=batch_size,\n",
        "    weight_decay=0.01,\n",
        "    save_total_limit=3,\n",
        "    num_train_epochs=10,\n",
        "    predict_with_generate=True,\n",
        "    fp16=True,\n",
        "    push_to_hub=True,\n",
        "    push_to_hub_model_id=f\"{model_name}-finetuned-xsum-3\",\n",
        ")"
      ],
      "execution_count": 19,
      "outputs": []
    },
    {
      "cell_type": "markdown",
      "metadata": {
        "id": "km3pGVdTIrJc"
      },
      "source": [
        "gunakan data collator untuk melakukan padding pada input"
      ]
    },
    {
      "cell_type": "code",
      "metadata": {
        "id": "OaAqgbqbE5Z_"
      },
      "source": [
        "data_collator = DataCollatorForSeq2Seq(tokenizer, model=model)"
      ],
      "execution_count": 20,
      "outputs": []
    },
    {
      "cell_type": "markdown",
      "metadata": {
        "id": "7sZOdRlRIrJd"
      },
      "source": [
        "definisikan fungsi untuk menghitung metric"
      ]
    },
    {
      "cell_type": "code",
      "metadata": {
        "id": "UmvbnJ9JIrJd"
      },
      "source": [
        "import nltk\n",
        "import numpy as np\n",
        "\n",
        "def compute_metrics(eval_pred):\n",
        "    predictions, labels = eval_pred\n",
        "    decoded_preds = tokenizer.batch_decode(predictions, skip_special_tokens=True)\n",
        "    # Replace -100 in the labels as we can't decode them.\n",
        "    labels = np.where(labels != -100, labels, tokenizer.pad_token_id)\n",
        "    decoded_labels = tokenizer.batch_decode(labels, skip_special_tokens=True)\n",
        "    \n",
        "    # Rouge expects a newline after each sentence\n",
        "    decoded_preds = [\"\\n\".join(nltk.sent_tokenize(pred.strip())) for pred in decoded_preds]\n",
        "    decoded_labels = [\"\\n\".join(nltk.sent_tokenize(label.strip())) for label in decoded_labels]\n",
        "    \n",
        "    result = metric.compute(predictions=decoded_preds, references=decoded_labels, use_stemmer=True)\n",
        "    # Extract a few results\n",
        "    result = {key: value.mid.fmeasure * 100 for key, value in result.items()}\n",
        "    \n",
        "    # Add mean generated length\n",
        "    prediction_lens = [np.count_nonzero(pred != tokenizer.pad_token_id) for pred in predictions]\n",
        "    result[\"gen_len\"] = np.mean(prediction_lens)\n",
        "    \n",
        "    return {k: round(v, 4) for k, v in result.items()}"
      ],
      "execution_count": 21,
      "outputs": []
    },
    {
      "cell_type": "markdown",
      "metadata": {
        "id": "rXuFTAzDIrJe"
      },
      "source": [
        "Inisialisasi trainer"
      ]
    },
    {
      "cell_type": "code",
      "metadata": {
        "id": "imY1oC3SIrJf"
      },
      "source": [
        "trainer = Seq2SeqTrainer(\n",
        "    model,\n",
        "    args,\n",
        "    train_dataset=tokenized_datasets[\"train\"],\n",
        "    eval_dataset=tokenized_datasets[\"validation\"],\n",
        "    data_collator=data_collator,\n",
        "    tokenizer=tokenizer,\n",
        "    compute_metrics=compute_metrics\n",
        ")"
      ],
      "execution_count": null,
      "outputs": []
    },
    {
      "cell_type": "markdown",
      "metadata": {
        "id": "CdzABDVcIrJg"
      },
      "source": [
        "mulai proses training\n"
      ]
    },
    {
      "cell_type": "code",
      "metadata": {
        "id": "uNx5pyRlIrJh",
        "scrolled": false
      },
      "source": [
        "trainer.train()"
      ],
      "execution_count": null,
      "outputs": []
    },
    {
      "cell_type": "markdown",
      "metadata": {
        "id": "_3AiB9GkE5ax"
      },
      "source": [
        "upload hasil training ke huggingface hub"
      ]
    },
    {
      "cell_type": "code",
      "metadata": {
        "id": "4YInihZZE5ax"
      },
      "source": [
        "trainer.push_to_hub()"
      ],
      "execution_count": null,
      "outputs": []
    }
  ]
}